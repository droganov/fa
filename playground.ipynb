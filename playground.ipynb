{
 "cells": [
  {
   "cell_type": "code",
   "execution_count": 2,
   "id": "01JAB6S17PJVWB4MR0GJSCJ54T",
   "metadata": {},
   "outputs": [
    {
     "ename": "ModuleNotFoundError",
     "evalue": "No module named 'aiodocker'",
     "output_type": "error",
     "traceback": [
      "\u001b[0;31m---------------------------------------------------------------------------\u001b[0m",
      "\u001b[0;31mModuleNotFoundError\u001b[0m                       Traceback (most recent call last)",
      "Cell \u001b[0;32mIn[2], line 2\u001b[0m\n\u001b[1;32m      1\u001b[0m \u001b[38;5;66;03m# ib_dashboard.py\u001b[39;00m\n\u001b[0;32m----> 2\u001b[0m \u001b[38;5;28;01mfrom\u001b[39;00m \u001b[38;5;21;01mapp_fa\u001b[39;00m\u001b[38;5;21;01m.\u001b[39;00m\u001b[38;5;21;01mproviders\u001b[39;00m\u001b[38;5;21;01m.\u001b[39;00m\u001b[38;5;21;01mib\u001b[39;00m \u001b[38;5;28;01mimport\u001b[39;00m IB\n\u001b[1;32m      4\u001b[0m \u001b[38;5;129m@with_ib\u001b[39m\n\u001b[1;32m      5\u001b[0m \u001b[38;5;28;01masync\u001b[39;00m \u001b[38;5;28;01mdef\u001b[39;00m \u001b[38;5;21mget_ib_data\u001b[39m(ib: IB):\n\u001b[1;32m      6\u001b[0m     trade \u001b[38;5;241m=\u001b[39m ib_open_market_order(ib\u001b[38;5;241m=\u001b[39mib, symbol\u001b[38;5;241m=\u001b[39m\u001b[38;5;124m'\u001b[39m\u001b[38;5;124mAAPL\u001b[39m\u001b[38;5;124m'\u001b[39m, quantity\u001b[38;5;241m=\u001b[39m\u001b[38;5;241m1\u001b[39m)\n",
      "File \u001b[0;32m~/www/x/x_fastapi/app_fa/providers/ib.py:10\u001b[0m\n\u001b[1;32m      7\u001b[0m \u001b[38;5;28;01mfrom\u001b[39;00m \u001b[38;5;21;01mtyping\u001b[39;00m \u001b[38;5;28;01mimport\u001b[39;00m cast\n\u001b[1;32m      9\u001b[0m \u001b[38;5;28;01mfrom\u001b[39;00m \u001b[38;5;21;01mapp_fa\u001b[39;00m\u001b[38;5;21;01m.\u001b[39;00m\u001b[38;5;21;01mconfig\u001b[39;00m \u001b[38;5;28;01mimport\u001b[39;00m config\n\u001b[0;32m---> 10\u001b[0m \u001b[38;5;28;01mfrom\u001b[39;00m \u001b[38;5;21;01mapp_fa\u001b[39;00m\u001b[38;5;21;01m.\u001b[39;00m\u001b[38;5;21;01mutil\u001b[39;00m\u001b[38;5;21;01m.\u001b[39;00m\u001b[38;5;21;01mrestart_ib\u001b[39;00m \u001b[38;5;28;01mimport\u001b[39;00m restart_ib\n\u001b[1;32m     12\u001b[0m P \u001b[38;5;241m=\u001b[39m ParamSpec(\u001b[38;5;124m\"\u001b[39m\u001b[38;5;124mP\u001b[39m\u001b[38;5;124m\"\u001b[39m)\n\u001b[1;32m     13\u001b[0m R \u001b[38;5;241m=\u001b[39m TypeVar(\u001b[38;5;124m\"\u001b[39m\u001b[38;5;124mR\u001b[39m\u001b[38;5;124m\"\u001b[39m)\n",
      "File \u001b[0;32m~/www/x/x_fastapi/app_fa/util/restart_ib.py:3\u001b[0m\n\u001b[1;32m      1\u001b[0m \u001b[38;5;66;03m# ./app_fa/util/restart_ib.py\u001b[39;00m\n\u001b[0;32m----> 3\u001b[0m \u001b[38;5;28;01mfrom\u001b[39;00m \u001b[38;5;21;01maiodocker\u001b[39;00m \u001b[38;5;28;01mimport\u001b[39;00m Docker\n\u001b[1;32m      6\u001b[0m \u001b[38;5;28;01masync\u001b[39;00m \u001b[38;5;28;01mdef\u001b[39;00m \u001b[38;5;21mfind_container_by_alias\u001b[39m(containers, alias: \u001b[38;5;28mstr\u001b[39m):\n\u001b[1;32m      7\u001b[0m     \u001b[38;5;28;01mfor\u001b[39;00m container \u001b[38;5;129;01min\u001b[39;00m containers:\n",
      "\u001b[0;31mModuleNotFoundError\u001b[0m: No module named 'aiodocker'"
     ]
    }
   ],
   "source": [
    "# ib_dashboard.py\n",
    "from app_fa.providers.ib import IB\n",
    "\n",
    "@with_ib\n",
    "async def get_ib_data(ib: IB):\n",
    "    trade = ib_open_market_order(ib=ib, symbol='AAPL', quantity=1)\n",
    "    print(trade)\n",
    "\n",
    "await get_ib_data()"
   ]
  },
  {
   "cell_type": "code",
   "execution_count": 23,
   "metadata": {},
   "outputs": [
    {
     "data": {
      "text/plain": [
       "IBViewModel(orders=[], positions=[Position(account='DU3902636', contract=Stock(conId=416854773, symbol='JNUG', exchange='ARCA', currency='USD', localSymbol='JNUG', tradingClass='JNUG'), position=200.0, avgCost=47.035048), Position(account='DU3902636', contract=Stock(conId=409199144, symbol='GUSH', exchange='ARCA', currency='USD', localSymbol='GUSH', tradingClass='GUSH'), position=200.0, avgCost=29.280048), Position(account='DU3902636', contract=Stock(conId=707875866, symbol='JDST', exchange='ARCA', currency='USD', localSymbol='JDST', tradingClass='JDST'), position=100.0, avgCost=26.480048), Position(account='DU3902636', contract=Stock(conId=73340487, symbol='SOXL', exchange='ARCA', currency='USD', localSymbol='SOXL', tradingClass='SOXL'), position=100.0, avgCost=35.510052), Position(account='DU3902636', contract=Stock(conId=55679428, symbol='SPXL', exchange='ARCA', currency='USD', localSymbol='SPXL', tradingClass='SPXL'), position=100.0, avgCost=164.850048), Position(account='DU3902636', contract=Stock(conId=560066434, symbol='ERY', exchange='ARCA', currency='USD', localSymbol='ERY', tradingClass='ERY'), position=200.0, avgCost=21.980048)], trades=[])"
      ]
     },
     "execution_count": 23,
     "metadata": {},
     "output_type": "execute_result"
    }
   ],
   "source": [
    "await ib_open_market_order()"
   ]
  }
 ],
 "metadata": {
  "kernelspec": {
   "display_name": "env",
   "language": "python",
   "name": "python3"
  },
  "language_info": {
   "codemirror_mode": {
    "name": "ipython",
    "version": 3
   },
   "file_extension": ".py",
   "mimetype": "text/x-python",
   "name": "python",
   "nbconvert_exporter": "python",
   "pygments_lexer": "ipython3",
   "version": "3.10.7"
  }
 },
 "nbformat": 4,
 "nbformat_minor": 2
}
